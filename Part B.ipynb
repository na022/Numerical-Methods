{
 "cells": [
  {
   "cell_type": "code",
   "execution_count": 15,
   "metadata": {
    "collapsed": true,
    "ExecuteTime": {
     "end_time": "2023-10-13T08:10:28.345473Z",
     "start_time": "2023-10-13T08:10:28.337614Z"
    }
   },
   "outputs": [],
   "source": [
    "import numpy as np\n",
    "from scipy.integrate import trapz\n",
    "from scipy.integrate import quad"
   ]
  },
  {
   "cell_type": "code",
   "execution_count": 16,
   "outputs": [],
   "source": [
    "# Define the PDF function\n",
    "def funf(x):\n",
    "    λ, μ  = 2 , 1\n",
    "    f = np.sqrt(λ / (2 * np.pi * x**3)) * np.exp(-λ / (2 * μ**2 * x) * (x - μ)**2)\n",
    "    return f"
   ],
   "metadata": {
    "collapsed": false,
    "ExecuteTime": {
     "end_time": "2023-10-13T08:10:28.345765Z",
     "start_time": "2023-10-13T08:10:28.341428Z"
    }
   }
  },
  {
   "cell_type": "code",
   "execution_count": 17,
   "outputs": [],
   "source": [
    "# Define Rieman sum integration\n",
    "def riemann(a, b, n_intervals):\n",
    "    delta_x = (b - a) / n_intervals\n",
    "    riemann_result = 0\n",
    "\n",
    "    for i in range(n_intervals):\n",
    "        x_i = (a + i) * delta_x\n",
    "        f_i = funf(x_i)\n",
    "        riemann_result += f_i * delta_x\n",
    "\n",
    "    return riemann_result"
   ],
   "metadata": {
    "collapsed": false,
    "ExecuteTime": {
     "end_time": "2023-10-13T08:10:28.349273Z",
     "start_time": "2023-10-13T08:10:28.346202Z"
    }
   }
  },
  {
   "cell_type": "code",
   "execution_count": 18,
   "outputs": [],
   "source": [
    "# Define trapezoid\n",
    "def trapezoid(a, b, n):\n",
    "    h = (b - a) / n\n",
    "    sum = 0\n",
    "\n",
    "    for i in range(1, n):\n",
    "        sum += 2*funf(a + i * h)\n",
    "        integration = (h/2)*(funf(a)+ sum +funf(b))\n",
    "    return integration"
   ],
   "metadata": {
    "collapsed": false,
    "ExecuteTime": {
     "end_time": "2023-10-13T08:10:28.356767Z",
     "start_time": "2023-10-13T08:10:28.350027Z"
    }
   }
  },
  {
   "cell_type": "code",
   "execution_count": 19,
   "outputs": [],
   "source": [
    "# Define romberg\n",
    "def romberg(a, b, n):\n",
    "    Rom = np.zeros(shape=(n,n))#initialise it to zero\n",
    "    Rom[0, 0] = ((b - a) / 2) * (funf(a) + funf(b))\n",
    "    for i in range(1, n):\n",
    "        Rom[i, 0] = trapezoid(a, b, n)\n",
    "        for j in range(1, i+1):\n",
    "            Rom[i, j] = Rom[i, j-1] + ((Rom[i, j-1] - Rom[i-1, j-1]) / (4**(j) - 1))\n",
    "    return Rom"
   ],
   "metadata": {
    "collapsed": false,
    "ExecuteTime": {
     "end_time": "2023-10-13T08:10:28.365343Z",
     "start_time": "2023-10-13T08:10:28.355533Z"
    }
   }
  },
  {
   "cell_type": "code",
   "execution_count": 20,
   "outputs": [],
   "source": [
    "#trapz and quad from scipy\n",
    "def scipy (funf, a, b):\n",
    "    x = np.linspace(a, b, num=100)\n",
    "    f = funf(x)\n",
    "    trap_result = trapz(f, x)\n",
    "    quad_result, error = quad(funf, a, b)\n",
    "\n",
    "    print(f\"The result using trapz from scipy is {trap_result:.5f}\")\n",
    "    print('-------------------------------')\n",
    "    print(f\"The result using quad from scipy is {quad_result:.5f} with an error {error:.5f}\")"
   ],
   "metadata": {
    "collapsed": false,
    "ExecuteTime": {
     "end_time": "2023-10-13T08:10:28.365555Z",
     "start_time": "2023-10-13T08:10:28.358684Z"
    }
   }
  },
  {
   "cell_type": "code",
   "execution_count": 21,
   "outputs": [
    {
     "name": "stdout",
     "output_type": "stream",
     "text": [
      "The result using Romberg algorithm is the table below. \n",
      "[[5.57299997e-23 0.00000000e+00 0.00000000e+00 0.00000000e+00]\n",
      " [4.05634465e-06 5.40845954e-06 0.00000000e+00 0.00000000e+00]\n",
      " [4.05634465e-06 4.05634465e-06 3.96620366e-06 0.00000000e+00]\n",
      " [4.05634465e-06 4.05634465e-06 4.05634465e-06 4.05777546e-06]]\n",
      "-------------------------------\n",
      "The result using Riemann sum is 1.01496\n",
      "-------------------------------\n",
      "The result using trapz from scipy is 1.01354\n",
      "-------------------------------\n",
      "The result using quad from scipy is 1.00000 with an error 0.00000\n"
     ]
    }
   ],
   "source": [
    "#magic numbers\n",
    "epsilon = 0.5e-6\n",
    "a,b = epsilon , 50\n",
    "n_intervals = 100 #riemann sum\n",
    "n = 4 #trapezoid\n",
    "\n",
    "print(f\"The result using Romberg algorithm is the table below. \\n{romberg(a, b, n)}\")\n",
    "print('-------------------------------')\n",
    "print(f\"The result using Riemann sum is {riemann(a, b, n_intervals):.5f}\")\n",
    "print('-------------------------------')\n",
    "scipy (funf, a, b)"
   ],
   "metadata": {
    "collapsed": false,
    "ExecuteTime": {
     "end_time": "2023-10-13T08:10:28.383937Z",
     "start_time": "2023-10-13T08:10:28.361434Z"
    }
   }
  }
 ],
 "metadata": {
  "kernelspec": {
   "display_name": "Python 3",
   "language": "python",
   "name": "python3"
  },
  "language_info": {
   "codemirror_mode": {
    "name": "ipython",
    "version": 2
   },
   "file_extension": ".py",
   "mimetype": "text/x-python",
   "name": "python",
   "nbconvert_exporter": "python",
   "pygments_lexer": "ipython2",
   "version": "2.7.6"
  }
 },
 "nbformat": 4,
 "nbformat_minor": 0
}
