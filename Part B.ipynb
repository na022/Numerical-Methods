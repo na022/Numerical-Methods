{
 "cells": [
  {
   "cell_type": "code",
   "execution_count": 20,
   "id": "fcab1342",
   "metadata": {},
   "outputs": [],
   "source": [
    "from scipy.integrate import romberg \n",
    "import quad, quadrature, trapz\n",
    "import pandas as pd\n",
    "import numpy as np"
   ]
  },
  {
   "cell_type": "code",
   "execution_count": 27,
   "id": "61ba4bc0",
   "metadata": {},
   "outputs": [],
   "source": [
    "# Define the PDF function\n",
    "def pdf(x, λ, μ):\n",
    "    return np.sqrt(λ / (2 * np.pi * x**3)) * np.exp(-λ / (2 * μ**2 * x) * (x - μ)**2)"
   ]
  },
  {
   "cell_type": "code",
   "execution_count": 44,
   "id": "c63df7bf",
   "metadata": {},
   "outputs": [],
   "source": [
    "# Define trapezoid rule\n",
    "def trapezoid(a, b, n):\n",
    "    h = (b - a) / n\n",
    "    sum = (pdf(a, λ, μ) + pdf(b, λ, μ)) / 2\n",
    "    for i in range(1, n):\n",
    "        sum += pdf(a + (i * h), λ, μ)\n",
    "    sum = sum * h\n",
    "    return sum"
   ]
  },
  {
   "cell_type": "code",
   "execution_count": 45,
   "id": "a728d323",
   "metadata": {},
   "outputs": [],
   "source": [
    "# Define Romberg integration\n",
    "def romberg(a, b, n, R):\n",
    "    R[0, 0] = ((b - a) / 2) * (pdf(a, λ, μ) + pdf(b, λ, μ))\n",
    "    for i in range(1, n):\n",
    "        R[i, 0] = trapezoid(a, b, 2**i)\n",
    "        for j in range(1, i+1):\n",
    "            R[i, j] = R[i, j-1] + ((R[i, j-1] - R[i-1, j-1]) / (4**(j) - 1))\n",
    "    return R"
   ]
  },
  {
   "cell_type": "code",
   "execution_count": 46,
   "id": "fe63a85b",
   "metadata": {},
   "outputs": [],
   "source": [
    "# Define Rieman sum integration\n",
    "def riemann_sum(λ, μ, epsilon, K, num_intervals):\n",
    "    delta_x = (K - epsilon) / num_intervals\n",
    "    riemann_sum_result = 0\n",
    "\n",
    "    for i in range(num_intervals):\n",
    "        x_i = epsilon + i * delta_x\n",
    "        f_i = pdf(x_i, λ, μ)\n",
    "        riemann_sum_result += f_i * delta_x\n",
    "\n",
    "    return riemann_sum_result\n"
   ]
  },
  {
   "cell_type": "code",
   "execution_count": 50,
   "id": "41bcf295",
   "metadata": {},
   "outputs": [],
   "source": [
    "# Compare numerical integration\n",
    "def numerical_integration(λ, μ, epsilon, K):\n",
    "    # Use quad function for numerical integration\n",
    "    result_quad, error_quad = quad(pdf, epsilon, K, args=(λ, μ))\n",
    "\n",
    "    # Use quadrature function for numerical integration\n",
    "    result_quadrature, error_quadrature = quadrature(pdf, epsilon, K, args=(λ, μ))\n",
    "\n",
    "    # Generate x values for trapezoidal rule\n",
    "    x_trapezoidal = np.linspace(epsilon, K, 150)\n",
    "    f_values_trapezoidal = pdf(x_trapezoidal, λ, μ)\n",
    "\n",
    "    # Use trapz function for trapezoidal rule approximation\n",
    "    result_trapezoidal = trapz(f_values_trapezoidal, x_trapezoidal)\n",
    "\n",
    "    return result_quad, result_quadrature, result_trapezoidal"
   ]
  },
  {
   "cell_type": "code",
   "execution_count": 51,
   "id": "19c05a79",
   "metadata": {},
   "outputs": [
    {
     "name": "stdout",
     "output_type": "stream",
     "text": [
      "The result from quad function is approximately 1.00000\n",
      "The result from quadrature function is approximately 0.99999\n",
      "The result from trapezoidal rule approximation is approximately 1.00000\n",
      "[[2.70775748e-05 0.00000000e+00 0.00000000e+00 0.00000000e+00\n",
      "  0.00000000e+00 0.00000000e+00]\n",
      " [1.02983830e-02 1.37221515e-02 0.00000000e+00 0.00000000e+00\n",
      "  0.00000000e+00 0.00000000e+00]\n",
      " [1.50468949e-01 1.97192471e-01 2.09423826e-01 0.00000000e+00\n",
      "  0.00000000e+00 0.00000000e+00]\n",
      " [5.68753043e-01 7.08181074e-01 7.42246981e-01 7.50704492e-01\n",
      "  0.00000000e+00 0.00000000e+00]\n",
      " [9.64191210e-01 1.09600393e+00 1.12185879e+00 1.12788437e+00\n",
      "  1.12936351e+00 0.00000000e+00]\n",
      " [1.02068421e+00 1.03951521e+00 1.03574929e+00 1.03438247e+00\n",
      "  1.03401580e+00 1.03392260e+00]]\n",
      "The Riemann sum approximation of the integral is approximately 1.00002\n"
     ]
    }
   ],
   "source": [
    "\n",
    "def main():\n",
    "    # Define the parameters\n",
    "    λ = 2\n",
    "    μ = 1\n",
    "\n",
    "    # Define the integration bounds (epsilon to a large value K)\n",
    "    epsilon = 1e-10  
    "    K = 10 
    "\n",
    "    # Perform numerical integration\n",
    "    result_quad, result_quadrature, result_trapezoidal = numerical_integration(λ, μ, epsilon, K)\n",
    "\n",
    "    print(f\"The result from quad function is approximately {result_quad:.5f}\")\n",
    "    print(f\"The result from quadrature function is approximately {result_quadrature:.5f}\")\n",
    "    print(f\"The result from trapezoidal rule approximation is approximately {result_trapezoidal:.5f}\")\n",
    "\n",
    "    # Perform Romberg Integration\n",
    "    n = 6\n",
    "    R= np.zeros(shape=(n,n))\n",
    "    a = epsilon\n",
    "    b = K\n",
    "    print(romberg(a, b, n, R))\n",
    "\n",
    "    # Approximate the integral from 0 to K using Riemann sum\n",
    "    num_intervals = 100\n",
    "    riemann_result = riemann_sum(λ, μ, epsilon, K, num_intervals)\n",
    "    print(f\"The Riemann sum approximation of the integral is approximately {riemann_result:.5f}\")\n",
    "\n",
    "\n",
    "main()"
   ]
  }
 ],
 "metadata": {
  "kernelspec": {
   "display_name": "Python 3 (ipykernel)",
   "language": "python",
   "name": "python3"
  },
  "language_info": {
   "codemirror_mode": {
    "name": "ipython",
    "version": 3
   },
   "file_extension": ".py",
   "mimetype": "text/x-python",
   "name": "python",
   "nbconvert_exporter": "python",
   "pygments_lexer": "ipython3",
   "version": "3.10.9"
  }
 },
 "nbformat": 4,
 "nbformat_minor": 5
}
